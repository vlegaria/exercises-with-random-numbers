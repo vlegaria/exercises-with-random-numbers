{
 "cells": [
  {
   "cell_type": "code",
   "execution_count": 1,
   "metadata": {},
   "outputs": [],
   "source": [
    "import numpy as np\n",
    "from scipy import stats\n",
    "\n",
    "def calcular_estadisticas(datos):\n",
    "    # Calcular la media\n",
    "    media = np.mean(datos)\n",
    "    \n",
    "    # Calcular la moda y su frecuencia\n",
    "    moda_result = stats.mode(datos)\n",
    "    moda = moda_result.mode[0]\n",
    "    frecuencia_moda = moda_result.count[0]\n",
    "    \n",
    "    # Calcular la desviación estándar\n",
    "    desviacion_estandar = np.std(datos)\n",
    "    \n",
    "    # Calcular la varianza\n",
    "    varianza = np.var(datos)\n",
    "    \n",
    "    # Calcular la curtosis\n",
    "    curtosis = stats.kurtosis(datos)\n",
    "    \n",
    "    # Calcular la asimetría\n",
    "    asimetria = stats.skew(datos)\n",
    "    \n",
    "    # Calcular la entropía\n",
    "    entropia = -np.sum((np.histogram(datos, bins=10, density=True)[0]) * np.log2(np.histogram(datos, bins=10, density=True)[0]))\n",
    "    \n",
    "\n",
    "    return {\n",
    "        'media': media,\n",
    "        'moda': moda,\n",
    "        'frecuencia_moda': frecuencia_moda,\n",
    "        'desviacion_estandar': desviacion_estandar,\n",
    "        'varianza': varianza,\n",
    "        'curtosis': curtosis,\n",
    "        'asimetria': asimetria,\n",
    "        'entropia': entropia\n",
    "    }\n"
   ]
  },
  {
   "cell_type": "code",
   "execution_count": 2,
   "metadata": {},
   "outputs": [],
   "source": [
    "valores = []  \n",
    "\n",
    "with open('datos_aleatorios.txt', 'r') as archivo:\n",
    "    for linea in archivo:\n",
    "        valor = float(linea.strip())\n",
    "        valores.append(valor)  \n"
   ]
  },
  {
   "cell_type": "code",
   "execution_count": 3,
   "metadata": {},
   "outputs": [
    {
     "name": "stdout",
     "output_type": "stream",
     "text": [
      "Valores aleatorios con distribución uniforme\n",
      "Media: 500.41344680104726\n",
      "Moda: 228.3545025623\n",
      "Frecuencia de la Moda: 2\n",
      "Desviación Estándar: 288.4431974945335\n",
      "Varianza: 83199.47818087043\n",
      "Curtosis: -1.2002108676820966\n",
      "Asimetría: 0.00041832321606509476\n",
      "Entropía: 0.09974314698071654\n"
     ]
    }
   ],
   "source": [
    "#Valores aleatorios con distribución uniforme\n",
    "resultados = calcular_estadisticas(valores)\n",
    "print(\"Valores aleatorios con distribución uniforme\")\n",
    "print(\"Media:\", resultados['media'])\n",
    "print(\"Moda:\", resultados['moda'])\n",
    "print(\"Frecuencia de la Moda:\", resultados['frecuencia_moda'])\n",
    "print(\"Desviación Estándar:\", resultados['desviacion_estandar'])\n",
    "print(\"Varianza:\", resultados['varianza'])\n",
    "print(\"Curtosis:\", resultados['curtosis'])\n",
    "print(\"Asimetría:\", resultados['asimetria'])\n",
    "print(\"Entropía:\", resultados['entropia'])"
   ]
  },
  {
   "cell_type": "code",
   "execution_count": 4,
   "metadata": {},
   "outputs": [],
   "source": [
    "valores_normales = []  \n",
    "\n",
    "with open('datos_norm.txt', 'r') as archivo:\n",
    "    for linea in archivo:\n",
    "        valor = float(linea.strip())\n",
    "        valores_normales.append(valor)  "
   ]
  },
  {
   "cell_type": "code",
   "execution_count": 5,
   "metadata": {},
   "outputs": [
    {
     "name": "stdout",
     "output_type": "stream",
     "text": [
      "Valores aleatorios con distribución normal\n",
      "Media: 484.0847229174246\n",
      "Moda: 1.0\n",
      "Frecuencia de la Moda: 1\n",
      "Desviación Estándar: 97.93874607032976\n",
      "Varianza: 9591.997981828532\n",
      "Curtosis: 0.0008360057024052736\n",
      "Asimetría: 0.0016659720481470113\n",
      "Entropía: 0.08729876302695087\n"
     ]
    }
   ],
   "source": [
    "#Valores aleatorios con distribución normal\n",
    "resultados_normales = calcular_estadisticas(valores_normales)\n",
    "print(\"Valores aleatorios con distribución normal\")\n",
    "print(\"Media:\", resultados_normales['media'])\n",
    "print(\"Moda:\", resultados_normales['moda'])\n",
    "print(\"Frecuencia de la Moda:\", resultados_normales['frecuencia_moda'])\n",
    "print(\"Desviación Estándar:\", resultados_normales['desviacion_estandar'])\n",
    "print(\"Varianza:\", resultados_normales['varianza'])\n",
    "print(\"Curtosis:\", resultados_normales['curtosis'])\n",
    "print(\"Asimetría:\", resultados_normales['asimetria'])\n",
    "print(\"Entropía:\", resultados_normales['entropia'])"
   ]
  },
  {
   "cell_type": "code",
   "execution_count": null,
   "metadata": {},
   "outputs": [],
   "source": [
    "print(\"\")"
   ]
  }
 ],
 "metadata": {
  "kernelspec": {
   "display_name": "base",
   "language": "python",
   "name": "python3"
  },
  "language_info": {
   "codemirror_mode": {
    "name": "ipython",
    "version": 3
   },
   "file_extension": ".py",
   "mimetype": "text/x-python",
   "name": "python",
   "nbconvert_exporter": "python",
   "pygments_lexer": "ipython3",
   "version": "3.8.8"
  },
  "orig_nbformat": 4
 },
 "nbformat": 4,
 "nbformat_minor": 2
}
